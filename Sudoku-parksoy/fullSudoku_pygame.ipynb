{
 "cells": [
  {
   "cell_type": "code",
   "execution_count": 1,
   "metadata": {
    "collapsed": false
   },
   "outputs": [
    {
     "ename": "ModuleNotFoundError",
     "evalue": "No module named 'pygame'",
     "output_type": "error",
     "traceback": [
      "\u001b[0;31m---------------------------------------------------------------------------\u001b[0m",
      "\u001b[0;31mModuleNotFoundError\u001b[0m                       Traceback (most recent call last)",
      "\u001b[0;32m<ipython-input-1-996bf5d98eaf>\u001b[0m in \u001b[0;36m<module>\u001b[0;34m()\u001b[0m\n\u001b[0;32m----> 1\u001b[0;31m \u001b[0;32mimport\u001b[0m \u001b[0msys\u001b[0m\u001b[0;34m,\u001b[0m \u001b[0mos\u001b[0m\u001b[0;34m,\u001b[0m \u001b[0mrandom\u001b[0m\u001b[0;34m,\u001b[0m \u001b[0mpygame\u001b[0m\u001b[0;34m\u001b[0m\u001b[0m\n\u001b[0m\u001b[1;32m      2\u001b[0m \u001b[0msys\u001b[0m\u001b[0;34m.\u001b[0m\u001b[0mpath\u001b[0m\u001b[0;34m.\u001b[0m\u001b[0mappend\u001b[0m\u001b[0;34m(\u001b[0m\u001b[0mos\u001b[0m\u001b[0;34m.\u001b[0m\u001b[0mpath\u001b[0m\u001b[0;34m.\u001b[0m\u001b[0mjoin\u001b[0m\u001b[0;34m(\u001b[0m\u001b[0;34m\"objects\"\u001b[0m\u001b[0;34m)\u001b[0m\u001b[0;34m)\u001b[0m\u001b[0;34m\u001b[0m\u001b[0m\n\u001b[1;32m      3\u001b[0m \u001b[0;32mimport\u001b[0m \u001b[0mSudokuSquare\u001b[0m\u001b[0;34m\u001b[0m\u001b[0m\n\u001b[1;32m      4\u001b[0m \u001b[0;32mfrom\u001b[0m \u001b[0mGameResources\u001b[0m \u001b[0;32mimport\u001b[0m \u001b[0;34m*\u001b[0m\u001b[0;34m\u001b[0m\u001b[0m\n\u001b[1;32m      5\u001b[0m \u001b[0;34m\u001b[0m\u001b[0m\n",
      "\u001b[0;31mModuleNotFoundError\u001b[0m: No module named 'pygame'"
     ]
    }
   ],
   "source": [
    "import sys, os, random, pygame\n",
    "sys.path.append(os.path.join(\"objects\"))\n",
    "import SudokuSquare\n",
    "from GameResources import *\n",
    "\n",
    "digits = '123456789'\n",
    "rows = 'ABCDEFGHI'\n",
    "\n",
    "\n",
    "def play(values_list):\n",
    "    pygame.init()\n",
    "\n",
    "\n",
    "    size = width, height = 700, 700\n",
    "    screen = pygame.display.set_mode(size)\n",
    "\n",
    "    background_image = pygame.image.load(\"./images/sudoku-board-bare.jpg\").convert()\n",
    "\n",
    "    clock = pygame.time.Clock()\n",
    "\n",
    "    # The puzzleNumber sets a seed so either generate\n",
    "    # a random number to fill in here or accept user\n",
    "    # input for a duplicatable puzzle.\n",
    "\n",
    "    for values in values_list:\n",
    "        pygame.event.pump()\n",
    "        theSquares = []\n",
    "        initXLoc = 0\n",
    "        initYLoc = 0\n",
    "        startX, startY, editable, number = 0, 0, \"N\", 0\n",
    "        for y in range(9):\n",
    "            for x in range(9):\n",
    "                if x in (0, 1, 2):  startX = (x * 57) + 38\n",
    "                if x in (3, 4, 5):  startX = (x * 57) + 99\n",
    "                if x in (6, 7, 8):  startX = (x * 57) + 159\n",
    "\n",
    "                if y in (0, 1, 2):  startY = (y * 57) + 35\n",
    "                if y in (3, 4, 5):  startY = (y * 57) + 100\n",
    "                if y in (6, 7, 8):  startY = (y * 57) + 165\n",
    "                col = digits[x]\n",
    "                row = rows[y]\n",
    "                string_number = values[row + col]\n",
    "                if len(string_number) > 1 or string_number == '' or string_number == '.':\n",
    "                    number = None\n",
    "                else:\n",
    "                    number = int(string_number)\n",
    "                theSquares.append(SudokuSquare.SudokuSquare(number, startX, startY, editable, x, y))\n",
    "\n",
    "        screen.blit(background_image, (0, 0))\n",
    "        for num in theSquares:\n",
    "            num.draw()\n",
    "\n",
    "        pygame.display.flip()\n",
    "        pygame.display.update()\n",
    "        clock.tick(5)\n",
    "\n",
    "    # leave game showing until closed by user\n",
    "    while True:\n",
    "        for event in pygame.event.get():\n",
    "            if event.type == pygame.QUIT:\n",
    "                pygame.quit()\n",
    "                quit()\n",
    "\n",
    "if __name__ == \"__main__\":\n",
    "    main()\n",
    "    sys.exit()\n"
   ]
  },
  {
   "cell_type": "code",
   "execution_count": null,
   "metadata": {
    "collapsed": true
   },
   "outputs": [],
   "source": []
  }
 ],
 "metadata": {
  "kernelspec": {
   "display_name": "Python 3",
   "language": "python",
   "name": "python3"
  },
  "language_info": {
   "codemirror_mode": {
    "name": "ipython",
    "version": 3
   },
   "file_extension": ".py",
   "mimetype": "text/x-python",
   "name": "python",
   "nbconvert_exporter": "python",
   "pygments_lexer": "ipython3",
   "version": "3.6.0"
  }
 },
 "nbformat": 4,
 "nbformat_minor": 2
}
